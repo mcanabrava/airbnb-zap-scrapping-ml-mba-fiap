{
 "cells": [
  {
   "cell_type": "code",
   "execution_count": 1,
   "id": "a88253fa",
   "metadata": {},
   "outputs": [],
   "source": [
    "import boto3\n",
    "import json\n",
    "import configparser\n",
    "from botocore.exceptions import ClientError\n",
    "import time\n",
    "import pandas as pd"
   ]
  },
  {
   "cell_type": "code",
   "execution_count": 16,
   "id": "f0cf7512",
   "metadata": {},
   "outputs": [
    {
     "data": {
      "text/html": [
       "<div>\n",
       "<style scoped>\n",
       "    .dataframe tbody tr th:only-of-type {\n",
       "        vertical-align: middle;\n",
       "    }\n",
       "\n",
       "    .dataframe tbody tr th {\n",
       "        vertical-align: top;\n",
       "    }\n",
       "\n",
       "    .dataframe thead th {\n",
       "        text-align: right;\n",
       "    }\n",
       "</style>\n",
       "<table border=\"1\" class=\"dataframe\">\n",
       "  <thead>\n",
       "    <tr style=\"text-align: right;\">\n",
       "      <th></th>\n",
       "      <th>Param</th>\n",
       "      <th>Value</th>\n",
       "    </tr>\n",
       "  </thead>\n",
       "  <tbody>\n",
       "    <tr>\n",
       "      <th>0</th>\n",
       "      <td>DWH_CLUSTER_TYPE</td>\n",
       "      <td>multi-node</td>\n",
       "    </tr>\n",
       "    <tr>\n",
       "      <th>1</th>\n",
       "      <td>DWH_NUM_NODES</td>\n",
       "      <td>2</td>\n",
       "    </tr>\n",
       "    <tr>\n",
       "      <th>2</th>\n",
       "      <td>DWH_NODE_TYPE</td>\n",
       "      <td>dc2.large</td>\n",
       "    </tr>\n",
       "    <tr>\n",
       "      <th>3</th>\n",
       "      <td>DWH_CLUSTER_IDENTIFIER</td>\n",
       "      <td>dwhCluster</td>\n",
       "    </tr>\n",
       "    <tr>\n",
       "      <th>4</th>\n",
       "      <td>DWH_DB</td>\n",
       "      <td>dwhdatabase</td>\n",
       "    </tr>\n",
       "    <tr>\n",
       "      <th>5</th>\n",
       "      <td>DWH_DB_USER</td>\n",
       "      <td>dwhuser</td>\n",
       "    </tr>\n",
       "    <tr>\n",
       "      <th>6</th>\n",
       "      <td>DWH_DB_PASSWORD</td>\n",
       "      <td>dwhUser123X</td>\n",
       "    </tr>\n",
       "    <tr>\n",
       "      <th>7</th>\n",
       "      <td>DWH_PORT</td>\n",
       "      <td>5439</td>\n",
       "    </tr>\n",
       "    <tr>\n",
       "      <th>8</th>\n",
       "      <td>DWH_IAM_ROLE_NAME</td>\n",
       "      <td>myRedshiftRole</td>\n",
       "    </tr>\n",
       "  </tbody>\n",
       "</table>\n",
       "</div>"
      ],
      "text/plain": [
       "                    Param           Value\n",
       "0        DWH_CLUSTER_TYPE      multi-node\n",
       "1           DWH_NUM_NODES               2\n",
       "2           DWH_NODE_TYPE       dc2.large\n",
       "3  DWH_CLUSTER_IDENTIFIER      dwhCluster\n",
       "4                  DWH_DB     dwhdatabase\n",
       "5             DWH_DB_USER         dwhuser\n",
       "6         DWH_DB_PASSWORD     dwhUser123X\n",
       "7                DWH_PORT            5439\n",
       "8       DWH_IAM_ROLE_NAME  myRedshiftRole"
      ]
     },
     "execution_count": 16,
     "metadata": {},
     "output_type": "execute_result"
    }
   ],
   "source": [
    "# IMPORT CONFIG VARIABLES\n",
    "\n",
    "config = configparser.ConfigParser()\n",
    "config.read_file(open('aws.cfg'))\n",
    "KEY                    = config.get('AWS','KEY')\n",
    "SECRET                 = config.get('AWS','SECRET')\n",
    "\n",
    "DWH_CLUSTER_TYPE       = config.get(\"DWH\",\"DWH_CLUSTER_TYPE\")\n",
    "DWH_NUM_NODES          = config.get(\"DWH\",\"DWH_NUM_NODES\")\n",
    "DWH_NODE_TYPE          = config.get(\"DWH\",\"DWH_NODE_TYPE\")\n",
    "\n",
    "DWH_CLUSTER_IDENTIFIER = config.get(\"DWH\",\"DWH_CLUSTER_IDENTIFIER\")\n",
    "DWH_DB                 = config.get(\"DWH\",\"DWH_DB\")\n",
    "DWH_DB_USER            = config.get(\"DWH\",\"DWH_DB_USER\")\n",
    "DWH_DB_PASSWORD        = config.get(\"DWH\",\"DWH_DB_PASSWORD\")\n",
    "DWH_PORT               = config.get(\"DWH\",\"DWH_PORT\")\n",
    "\n",
    "DWH_IAM_ROLE_NAME      = config.get(\"DWH\", \"DWH_IAM_ROLE_NAME\")\n",
    "\n",
    "pd.DataFrame({\"Param\":\n",
    "                  [\"DWH_CLUSTER_TYPE\", \"DWH_NUM_NODES\", \"DWH_NODE_TYPE\", \"DWH_CLUSTER_IDENTIFIER\", \"DWH_DB\", \"DWH_DB_USER\", \"DWH_DB_PASSWORD\", \"DWH_PORT\", \"DWH_IAM_ROLE_NAME\"],\n",
    "              \"Value\":\n",
    "                  [DWH_CLUSTER_TYPE, DWH_NUM_NODES, DWH_NODE_TYPE, DWH_CLUSTER_IDENTIFIER, DWH_DB, DWH_DB_USER, DWH_DB_PASSWORD, DWH_PORT, DWH_IAM_ROLE_NAME]\n",
    "             })"
   ]
  },
  {
   "cell_type": "code",
   "execution_count": 3,
   "id": "17c4c9ea",
   "metadata": {},
   "outputs": [],
   "source": [
    "# Create clients for EC2, S3, IAM, and Redshift\n",
    "ec2 = boto3.resource('ec2', \n",
    "                     region_name='us-east-1',\n",
    "                     aws_access_key_id=KEY,\n",
    "                     aws_secret_access_key=SECRET)\n",
    "\n",
    "iam = boto3.client('iam',\n",
    "                   region_name='us-east-1',\n",
    "                   aws_access_key_id=KEY,\n",
    "                   aws_secret_access_key=SECRET)\n",
    "\n",
    "redshift = boto3.client('redshift',\n",
    "                        region_name=\"us-east-1\",\n",
    "                        aws_access_key_id=KEY,\n",
    "                        aws_secret_access_key=SECRET)\n",
    "\n",
    "\n",
    "s3 = boto3.resource('s3',\n",
    "                       region_name=\"us-east-1\",\n",
    "                       aws_access_key_id=KEY,\n",
    "                       aws_secret_access_key=SECRET\n",
    "                   )"
   ]
  },
  {
   "cell_type": "code",
   "execution_count": 4,
   "id": "3b0a805b",
   "metadata": {},
   "outputs": [
    {
     "name": "stdout",
     "output_type": "stream",
     "text": [
      "Bucket 'airbnb-data-landing' created successfully.\n",
      "Bucket 'zap-data-landing' created successfully.\n"
     ]
    }
   ],
   "source": [
    "## CREATING THE BUCKETS\n",
    "\n",
    "bucket_names = ['airbnb-data-landing', 'zap-data-landing']\n",
    "\n",
    "for bucket_name in bucket_names:\n",
    "    try:\n",
    "        s3.create_bucket(Bucket=bucket_name)\n",
    "        print(f\"Bucket '{bucket_name}' created successfully.\")\n",
    "    except Exception as e:\n",
    "        print(f\"Error creating bucket '{bucket_name}': {str(e)}\")"
   ]
  },
  {
   "cell_type": "code",
   "execution_count": 7,
   "id": "0b885941",
   "metadata": {},
   "outputs": [
    {
     "name": "stdout",
     "output_type": "stream",
     "text": [
      "A file with the name 'zap_bs4.csv' already exists in the 'zap-data-landing' bucket.\n"
     ]
    }
   ],
   "source": [
    "## UPLOADING ZAP DATA TO THE BUCKET\n",
    "bucket_name = 'zap-data-landing'\n",
    "file_path = 'dataset/zap/zap_bs4.csv'\n",
    "s3_file_name = 'zap_bs4.csv'\n",
    "\n",
    "if s3.Bucket(bucket_name) in s3.buckets.all():\n",
    "    bucket = s3.Bucket(bucket_name)\n",
    "    existing_objects = list(bucket.objects.filter(Prefix='zap/'))\n",
    "    if any(obj['Key'] == s3_file_name for obj in existing_objects):\n",
    "        print(f\"A file with the name '{s3_file_name}' already exists in the '{bucket_name}' bucket.\")\n",
    "    else:\n",
    "        try:\n",
    "            s3.meta.client.upload_file(file_path, bucket_name, s3_file_name)\n",
    "            print(f\"File '{s3_file_name}' uploaded to '{bucket_name}' bucket successfully.\")\n",
    "        except Exception as e:\n",
    "            print(f\"Error uploading file '{s3_file_name}' to '{bucket_name}' bucket: {str(e)}\")"
   ]
  },
  {
   "cell_type": "code",
   "execution_count": 10,
   "id": "aaa63380",
   "metadata": {},
   "outputs": [
    {
     "name": "stdout",
     "output_type": "stream",
     "text": [
      "File 'calendar.csv' uploaded to 'airbnb-data-landing' bucket successfully.\n",
      "A file with the name 'listings_sample.csv' already exists in the 'airbnb-data-landing' bucket.\n",
      "A file with the name 'listings.csv' already exists in the 'airbnb-data-landing' bucket.\n",
      "A file with the name 'reviews_sample.csv' already exists in the 'airbnb-data-landing' bucket.\n"
     ]
    }
   ],
   "source": [
    "## UPLOADING AIRBNB DATA TO THE BUCKET\n",
    "\n",
    "bucket_name = 'airbnb-data-landing'\n",
    "folder_path = 'dataset/airbnb'\n",
    "file_names = ['calendar.csv', 'listings_sample.csv', 'listings.csv', 'reviews_sample.csv'] #'', \n",
    "\n",
    "if s3.Bucket(bucket_name) in s3.buckets.all():\n",
    "    bucket = s3.Bucket(bucket_name)\n",
    "    existing_objects = list(bucket.objects.all())\n",
    "    \n",
    "    for file_name in file_names:\n",
    "        s3_file_name = file_name\n",
    "        \n",
    "        # Check if the file already exists in the bucket\n",
    "        if any(obj.key == s3_file_name for obj in existing_objects):\n",
    "            print(f\"A file with the name '{s3_file_name}' already exists in the '{bucket_name}' bucket.\")\n",
    "        else:\n",
    "            file_path = f\"{folder_path}/{file_name}\"\n",
    "            try:\n",
    "                s3.meta.client.upload_file(file_path, bucket_name, s3_file_name)\n",
    "                print(f\"File '{s3_file_name}' uploaded to '{bucket_name}' bucket successfully.\")\n",
    "            except Exception as e:\n",
    "                print(f\"Error uploading file '{s3_file_name}' to '{bucket_name}' bucket: {str(e)}\")\n",
    "else:\n",
    "    print(f\"The '{bucket_name}' bucket does not exist.\")"
   ]
  },
  {
   "cell_type": "code",
   "execution_count": 11,
   "id": "95885990",
   "metadata": {},
   "outputs": [
    {
     "name": "stdout",
     "output_type": "stream",
     "text": [
      "Creating a new IAM Role\n",
      "Attaching Policy\n",
      "Getting the IAM role ARN\n",
      "       IAM role ARN: arn:aws:iam::244710117918:role/myRedshiftRole\n",
      "Role Created\n",
      "Role ARN:  arn:aws:iam::244710117918:role/myRedshiftRole\n"
     ]
    }
   ],
   "source": [
    "### CREATING IAM ROLE FOR REDSHIFT - REMEMBER TO COPY IT TO THE AWS.CFG FILE\n",
    "\n",
    "def create_IAM_Role(iam, DWH_IAM_ROLE_NAME):\n",
    "    try:\n",
    "        print(\"Creating a new IAM Role\")\n",
    "        dwhRole = iam.create_role(\n",
    "            Path=\"/\",\n",
    "            RoleName=DWH_IAM_ROLE_NAME,\n",
    "            Description=\"Allows Redshift clusters to call AWS services on your behalf.\",\n",
    "            AssumeRolePolicyDocument=json.dumps(\n",
    "                {\n",
    "                    \"Statement\": [\n",
    "                        {\n",
    "                            \"Action\": \"sts:AssumeRole\",\n",
    "                            \"Effect\": \"Allow\",\n",
    "                            \"Principal\": {\"Service\": \"redshift.amazonaws.com\"},\n",
    "                        }\n",
    "                    ],\n",
    "                    \"Version\": \"2012-10-17\",\n",
    "                }\n",
    "            ),\n",
    "        )\n",
    "    except Exception as e:\n",
    "        print(\"       \" + str(e))\n",
    "\n",
    "    print(\"Attaching Policy\")\n",
    "\n",
    "    iam.attach_role_policy(\n",
    "        RoleName=DWH_IAM_ROLE_NAME,\n",
    "        PolicyArn=\"arn:aws:iam::aws:policy/AmazonS3ReadOnlyAccess\",\n",
    "    )[\"ResponseMetadata\"][\"HTTPStatusCode\"]\n",
    "\n",
    "    print(\"Getting the IAM role ARN\")\n",
    "    roleArn = iam.get_role(RoleName=DWH_IAM_ROLE_NAME)[\"Role\"][\"Arn\"]\n",
    "    print(\"       IAM role ARN: \" + roleArn)\n",
    "    return roleArn\n",
    "\n",
    "create_IAM_Role(iam, DWH_IAM_ROLE_NAME)\n",
    "print(\"Role Created\")\n",
    "\n",
    "roleArn = iam.get_role(RoleName=DWH_IAM_ROLE_NAME)[\"Role\"][\"Arn\"]\n",
    "print(\"Role ARN:  \" + roleArn)"
   ]
  },
  {
   "cell_type": "code",
   "execution_count": 19,
   "id": "54bbb64a",
   "metadata": {},
   "outputs": [],
   "source": [
    "# CREATE THE REDSHIFT CLUSTER - MIGHT TAKE 3~15M\n",
    "try:\n",
    "    response = redshift.create_cluster(        \n",
    "        #HW\n",
    "        ClusterType=DWH_CLUSTER_TYPE,\n",
    "        NodeType=DWH_NODE_TYPE,\n",
    "        NumberOfNodes=int(DWH_NUM_NODES),\n",
    "\n",
    "        #Identifiers & Credentials\n",
    "        DBName=DWH_DB,\n",
    "        ClusterIdentifier=DWH_CLUSTER_IDENTIFIER,\n",
    "        MasterUsername=DWH_DB_USER,\n",
    "        MasterUserPassword=DWH_DB_PASSWORD,\n",
    "        \n",
    "        #Roles (for s3 access)\n",
    "        IamRoles=[roleArn],\n",
    "        \n",
    "        #Adding default and redshift security group\n",
    "        #VpcSecurityGroupIds=['sgr-06ee6fbd2a4420a20']\n",
    "    )\n",
    "except Exception as e:\n",
    "    print(e)"
   ]
  },
  {
   "cell_type": "code",
   "execution_count": 20,
   "id": "a6716e89",
   "metadata": {},
   "outputs": [
    {
     "name": "stderr",
     "output_type": "stream",
     "text": [
      "C:\\Users\\marce\\AppData\\Local\\Temp\\ipykernel_9164\\683583769.py:4: FutureWarning: Passing a negative integer is deprecated in version 1.0 and will not be supported in future version. Instead, use None to not limit the column width.\n",
      "  pd.set_option('display.max_colwidth', -1)\n"
     ]
    },
    {
     "data": {
      "text/html": [
       "<div>\n",
       "<style scoped>\n",
       "    .dataframe tbody tr th:only-of-type {\n",
       "        vertical-align: middle;\n",
       "    }\n",
       "\n",
       "    .dataframe tbody tr th {\n",
       "        vertical-align: top;\n",
       "    }\n",
       "\n",
       "    .dataframe thead th {\n",
       "        text-align: right;\n",
       "    }\n",
       "</style>\n",
       "<table border=\"1\" class=\"dataframe\">\n",
       "  <thead>\n",
       "    <tr style=\"text-align: right;\">\n",
       "      <th></th>\n",
       "      <th>Key</th>\n",
       "      <th>Value</th>\n",
       "    </tr>\n",
       "  </thead>\n",
       "  <tbody>\n",
       "    <tr>\n",
       "      <th>0</th>\n",
       "      <td>ClusterIdentifier</td>\n",
       "      <td>dwhcluster</td>\n",
       "    </tr>\n",
       "    <tr>\n",
       "      <th>1</th>\n",
       "      <td>NodeType</td>\n",
       "      <td>dc2.large</td>\n",
       "    </tr>\n",
       "    <tr>\n",
       "      <th>2</th>\n",
       "      <td>ClusterStatus</td>\n",
       "      <td>available</td>\n",
       "    </tr>\n",
       "    <tr>\n",
       "      <th>3</th>\n",
       "      <td>MasterUsername</td>\n",
       "      <td>dwhuser</td>\n",
       "    </tr>\n",
       "    <tr>\n",
       "      <th>4</th>\n",
       "      <td>DBName</td>\n",
       "      <td>dwhdatabase</td>\n",
       "    </tr>\n",
       "    <tr>\n",
       "      <th>5</th>\n",
       "      <td>Endpoint</td>\n",
       "      <td>{'Address': 'dwhcluster.cjxbvix80uhy.us-east-1.redshift.amazonaws.com', 'Port': 5439}</td>\n",
       "    </tr>\n",
       "    <tr>\n",
       "      <th>6</th>\n",
       "      <td>VpcId</td>\n",
       "      <td>vpc-031e26205c2d2092a</td>\n",
       "    </tr>\n",
       "    <tr>\n",
       "      <th>7</th>\n",
       "      <td>NumberOfNodes</td>\n",
       "      <td>2</td>\n",
       "    </tr>\n",
       "  </tbody>\n",
       "</table>\n",
       "</div>"
      ],
      "text/plain": [
       "                 Key  \\\n",
       "0  ClusterIdentifier   \n",
       "1  NodeType            \n",
       "2  ClusterStatus       \n",
       "3  MasterUsername      \n",
       "4  DBName              \n",
       "5  Endpoint            \n",
       "6  VpcId               \n",
       "7  NumberOfNodes       \n",
       "\n",
       "                                                                                   Value  \n",
       "0  dwhcluster                                                                             \n",
       "1  dc2.large                                                                              \n",
       "2  available                                                                              \n",
       "3  dwhuser                                                                                \n",
       "4  dwhdatabase                                                                            \n",
       "5  {'Address': 'dwhcluster.cjxbvix80uhy.us-east-1.redshift.amazonaws.com', 'Port': 5439}  \n",
       "6  vpc-031e26205c2d2092a                                                                  \n",
       "7  2                                                                                      "
      ]
     },
     "execution_count": 20,
     "metadata": {},
     "output_type": "execute_result"
    }
   ],
   "source": [
    "## VERIFYING CLUSTER INFORMATION (WILL ONLY WORK AFTER THE CLUSTER IS SUCCESFULLY CREATED)\n",
    "\n",
    "def prettyRedshiftProps(props):\n",
    "    pd.set_option('display.max_colwidth', -1)\n",
    "    keysToShow = [\"ClusterIdentifier\", \"NodeType\", \"ClusterStatus\", \"MasterUsername\", \"DBName\", \"Endpoint\", \"NumberOfNodes\", 'VpcId']\n",
    "    x = [(k, v) for k,v in props.items() if k in keysToShow]\n",
    "    return pd.DataFrame(data=x, columns=[\"Key\", \"Value\"])\n",
    "\n",
    "myClusterProps = redshift.describe_clusters(ClusterIdentifier=DWH_CLUSTER_IDENTIFIER)['Clusters'][0]\n",
    "prettyRedshiftProps(myClusterProps)"
   ]
  },
  {
   "cell_type": "code",
   "execution_count": 21,
   "id": "0546d6dc",
   "metadata": {},
   "outputs": [
    {
     "name": "stdout",
     "output_type": "stream",
     "text": [
      "DWH_ENDPOINT ::  dwhcluster.cjxbvix80uhy.us-east-1.redshift.amazonaws.com\n",
      "DWH_ROLE_ARN ::  arn:aws:iam::244710117918:role/myRedshiftRole\n"
     ]
    }
   ],
   "source": [
    "DWH_ENDPOINT = myClusterProps['Endpoint']['Address']\n",
    "DWH_ROLE_ARN = myClusterProps['IamRoles'][0]['IamRoleArn']\n",
    "print(\"DWH_ENDPOINT :: \", DWH_ENDPOINT)\n",
    "print(\"DWH_ROLE_ARN :: \", DWH_ROLE_ARN)"
   ]
  },
  {
   "cell_type": "code",
   "execution_count": 22,
   "id": "96820951",
   "metadata": {},
   "outputs": [
    {
     "name": "stdout",
     "output_type": "stream",
     "text": [
      "ec2.SecurityGroup(id='sg-07ded5f0fe2108b77')\n"
     ]
    }
   ],
   "source": [
    "# OPEN AN INCOMING TCP PORT TO ACCESS THE CLUSTER ENDPOINT\n",
    "try:\n",
    "    vpc = ec2.Vpc(id=myClusterProps['VpcId'])\n",
    "    defaultSg = list(vpc.security_groups.all())[0]\n",
    "    print(defaultSg)\n",
    "    defaultSg.authorize_ingress(\n",
    "        GroupName=defaultSg.group_name,\n",
    "        CidrIp='0.0.0.0/0',\n",
    "        IpProtocol='TCP',\n",
    "        FromPort=int(DWH_PORT),\n",
    "        ToPort=int(DWH_PORT)\n",
    "    )\n",
    "except Exception as e:\n",
    "    print(e)"
   ]
  },
  {
   "cell_type": "code",
   "execution_count": null,
   "id": "e4ca1e50",
   "metadata": {},
   "outputs": [],
   "source": [
    "# MOVE RAW DATA FROM S3 LANDING ZONE TO REDSHIFT USING AIRBYTE"
   ]
  },
  {
   "cell_type": "code",
   "execution_count": null,
   "id": "dea943c3",
   "metadata": {},
   "outputs": [],
   "source": []
  },
  {
   "cell_type": "code",
   "execution_count": null,
   "id": "ac16a22b",
   "metadata": {},
   "outputs": [],
   "source": [
    "print(\"xxxxxxxxx\")"
   ]
  }
 ],
 "metadata": {
  "kernelspec": {
   "display_name": "Python 3 (ipykernel)",
   "language": "python",
   "name": "python3"
  },
  "language_info": {
   "codemirror_mode": {
    "name": "ipython",
    "version": 3
   },
   "file_extension": ".py",
   "mimetype": "text/x-python",
   "name": "python",
   "nbconvert_exporter": "python",
   "pygments_lexer": "ipython3",
   "version": "3.10.4"
  }
 },
 "nbformat": 4,
 "nbformat_minor": 5
}
