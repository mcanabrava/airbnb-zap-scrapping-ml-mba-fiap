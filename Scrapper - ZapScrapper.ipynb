{
 "cells": [
  {
   "cell_type": "code",
   "execution_count": null,
   "id": "f064c235",
   "metadata": {},
   "outputs": [],
   "source": [
    "import zapimoveis_scraper as zap\n",
    "import pandas as pd\n",
    "import datetime\n",
    "import time\n",
    "import os"
   ]
  },
  {
   "cell_type": "code",
   "execution_count": null,
   "id": "0f78a3ba",
   "metadata": {},
   "outputs": [],
   "source": [
    "pd.set_option('display.max_rows', None)"
   ]
  },
  {
   "cell_type": "code",
   "execution_count": null,
   "id": "7e267f96",
   "metadata": {
    "scrolled": true
   },
   "outputs": [],
   "source": [
    "# Zap Imoveis shwos 359.321 imoveis available for purchase in Rio de Janeiro - RJ. \n",
    "# With 30 results being displayed per page, this would result in 11.978 pages to be scrapped. \n",
    "# However, the results only show up to page 100.\n",
    "\n",
    "# returns a list with objects containing scraped data\n",
    "success = False\n",
    "\n",
    "while not success:\n",
    "    try:\n",
    "        zap_item = zap.search(localization=\"rj+rio-de-janeiro\", num_pages=1, acao=\"venda\", tipo=\"imoveis\", dictionary_out=False, time_to_wait=1)\n",
    "        success = True\n",
    "    except Exception as e:\n",
    "        current_time = datetime.datetime.now().strftime(\"%Y-%m-%d %H:%M:%S\")\n",
    "        print(\"An error occurred at\", current_time + \":\", str(e))\n",
    "        time.sleep(1)"
   ]
  },
  {
   "cell_type": "code",
   "execution_count": null,
   "id": "280df3dc",
   "metadata": {},
   "outputs": [],
   "source": [
    "data = []\n",
    "\n",
    "for item in zap_item:\n",
    "    # Extract the desired attributes from the ZapItem object\n",
    "    description = item.description\n",
    "    price = item.price\n",
    "    condo_fee = item.condo_fee\n",
    "    bedrooms = item.bedrooms\n",
    "    bathrooms = item.bathrooms\n",
    "    total_area_m2 = item.total_area_m2\n",
    "    vacancies = item.vacancies\n",
    "    address = item.address\n",
    "    link = item.link\n",
    "    \n",
    "    # Create a dictionary with the extracted attributes\n",
    "    item_data = {\n",
    "        'description': description,\n",
    "        'price': price,\n",
    "        'condo_fee': condo_fee,\n",
    "        'bedrooms': bedrooms,\n",
    "        'bathrooms': bathrooms,\n",
    "        'total_area_m2': total_area_m2,\n",
    "        'vacancies': vacancies,\n",
    "        'address': address,\n",
    "        'link': link\n",
    "    }\n",
    "    \n",
    "    # Append the dictionary to the data list\n",
    "    data.append(item_data)\n",
    "\n",
    "\n",
    "df = pd.DataFrame(data)\n",
    "df.describe()"
   ]
  },
  {
   "cell_type": "code",
   "execution_count": null,
   "id": "7f9c463e",
   "metadata": {},
   "outputs": [],
   "source": [
    "df.head(300)"
   ]
  },
  {
   "cell_type": "code",
   "execution_count": null,
   "id": "eb195695",
   "metadata": {},
   "outputs": [],
   "source": [
    "# Save the DataFrame to the CSV file\n",
    "df.to_csv('./dataset/zap/zap_imoveis_rj_teste.csv', sep=';' , index=False, encoding='utf-8-sig')\n",
    "\n",
    "print(\"DataFrame successfully saved\")"
   ]
  }
 ],
 "metadata": {
  "kernelspec": {
   "display_name": "Python 3 (ipykernel)",
   "language": "python",
   "name": "python3"
  },
  "language_info": {
   "codemirror_mode": {
    "name": "ipython",
    "version": 3
   },
   "file_extension": ".py",
   "mimetype": "text/x-python",
   "name": "python",
   "nbconvert_exporter": "python",
   "pygments_lexer": "ipython3",
   "version": "3.10.4"
  }
 },
 "nbformat": 4,
 "nbformat_minor": 5
}
